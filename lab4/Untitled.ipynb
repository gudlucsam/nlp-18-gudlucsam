{
 "cells": [
  {
   "cell_type": "code",
   "execution_count": 2,
   "metadata": {},
   "outputs": [],
   "source": [
    "import pandas as pd\n",
    "import numpy as np\n",
    "\n",
    "from sklearn.model_selection import train_test_split\n",
    "from sklearn.feature_extraction.text import CountVectorizer\n",
    "from sklearn.feature_extraction.text import TfidfTransformer\n",
    "\n",
    "from sklearn.naive_bayes import MultinomialNB\n",
    "from sklearn.linear_model import LogisticRegression\n",
    "from sklearn.metrics import classification_report"
   ]
  },
  {
   "cell_type": "code",
   "execution_count": 3,
   "metadata": {},
   "outputs": [],
   "source": [
    "# read dataset with pandas\n",
    "data = pd.read_csv('dataset.txt', delimiter=\"\\t\", names=['sentences', 'labels'])\n",
    "# split data into training and testing data\n",
    "X_train, X_test, y_train, y_test = train_test_split(data['sentences'], data['labels'], test_size=0.3)"
   ]
  },
  {
   "cell_type": "code",
   "execution_count": 4,
   "metadata": {},
   "outputs": [],
   "source": [
    "# =============Naive Bayes Un-normalized============ # \n",
    "\n",
    "def uNaiveBayesTrain():\n",
    "    \"\"\" Training an unnormalized naivebayes model \"\"\"\n",
    "\n",
    "    # initialize CountVectorizer to extract word features\n",
    "    count_vect = CountVectorizer()\n",
    "\n",
    "    # transform training dataset to word features without normalizing\n",
    "    X_train_features = count_vect.fit_transform(X_train)\n",
    "    \n",
    "    # train model with training dataset\n",
    "    clf = MultinomialNB().fit(X_train_features, y_train)\n",
    "\n",
    "    # return trained model\n",
    "    return clf, count_vect"
   ]
  },
  {
   "cell_type": "code",
   "execution_count": 5,
   "metadata": {},
   "outputs": [],
   "source": [
    "def uPredict(test_file, resultdoc=\"result-nb-u.txt\"):\n",
    "    \"\"\" predicting when given a test file\"\"\"\n",
    "\n",
    "    # call trained model\n",
    "    clf, count_vect  = uNaiveBayesTrain()\n",
    "\n",
    "    # load test data\n",
    "    data = []\n",
    "    with open(test_file, 'r') as f:\n",
    "        for sentence in f:\n",
    "            data.append(sentence.strip('\\r\\n'))\n",
    "\n",
    "    # transform test_data to features\n",
    "    X_test_features = count_vect.transform(data) \n",
    "\n",
    "    # predict test sentences\n",
    "    predicted = clf.predict(X_test_features)\n",
    "    \n",
    "    # write prediction to file\n",
    "    with open(resultdoc, 'w', newline='') as f1:\n",
    "        for prediction in predicted:\n",
    "            f1.write(str(prediction) + '\\n')"
   ]
  },
  {
   "cell_type": "code",
   "execution_count": 6,
   "metadata": {},
   "outputs": [],
   "source": [
    "def uAccuracy():\n",
    "    \"\"\" calculates the accuracy of the unnormalized naive bayes model\"\"\"\n",
    "    # call trained model\n",
    "    clf, count_vect  = uNaiveBayesTrain()\n",
    "\n",
    "    # transform test_data to features\n",
    "    X_test_features = count_vect.transform(X_test)\n",
    "\n",
    "    # make prediction\n",
    "    predicted = clf.predict(X_test_features)\n",
    "\n",
    "    # calculate accuracy\n",
    "    acc = np.mean(predicted == y_test)\n",
    "    # print accuracy\n",
    "    print(\"Accuracy of un-normalized naive bayes is: \" + str(round(acc, 3)))"
   ]
  },
  {
   "cell_type": "code",
   "execution_count": 7,
   "metadata": {},
   "outputs": [],
   "source": [
    "# =============Naive Bayes normalized============ # \n",
    "\n",
    "def nNaiveBayesTrain():\n",
    "    \"\"\" Training normalized naivebayes model \"\"\"\n",
    "\n",
    "    # initialize CountVectorizer to extract word features with normalization\n",
    "    count_vect = CountVectorizer(stop_words=\"english\", analyzer='word', \n",
    "                            ngram_range=(1, 1), max_df=0.5, min_df=1, max_features=None)\n",
    "\n",
    "    # transform training dataset to word features \n",
    "    X_train_features = count_vect.fit_transform(X_train)\n",
    "\n",
    "    # solve frequency discrepancies among long and short sentences\n",
    "    tfidf_transformer = TfidfTransformer()\n",
    "    X_train_tfidf = tfidf_transformer.fit_transform(X_train_features)\n",
    "    \n",
    "    # train model with training dataset\n",
    "    clf = MultinomialNB().fit(X_train_tfidf, y_train)\n",
    "\n",
    "    # return trained model\n",
    "    return clf, count_vect, tfidf_transformer"
   ]
  },
  {
   "cell_type": "code",
   "execution_count": 8,
   "metadata": {},
   "outputs": [],
   "source": [
    "def nPredict(test_file, resultdoc=\"result-nb-n.txt\"):\n",
    "    \"\"\" predicting when given a test file\"\"\"\n",
    "\n",
    "    # call trained model\n",
    "    clf, count_vect, tfidf_transformer  = nNaiveBayesTrain()\n",
    "\n",
    "    # load test data\n",
    "    data = []\n",
    "    with open(test_file, 'r') as f:\n",
    "        for sentence in f:\n",
    "            data.append(sentence.strip('\\r\\n'))\n",
    "\n",
    "    # transform test_data to features\n",
    "    X_test_features = count_vect.transform(data) \n",
    "    # solve frequency discrepancies among short and long sentences\n",
    "    X_new_tfidf = tfidf_transformer.transform(X_test_features)\n",
    "\n",
    "    # predict test sentences\n",
    "    predicted = clf.predict(X_new_tfidf)\n",
    "    \n",
    "    # write prediction to file\n",
    "    with open(resultdoc, 'w', newline='') as f1:\n",
    "        for prediction in predicted:\n",
    "            f1.write(str(prediction) + '\\n')"
   ]
  },
  {
   "cell_type": "code",
   "execution_count": 9,
   "metadata": {},
   "outputs": [],
   "source": [
    "def nAccuracy():\n",
    "    \"\"\" calculates the accuracy of the normalized naive bayes model\"\"\"\n",
    "    \n",
    "    # call trained model\n",
    "    clf, count_vect, tfidf_transformer  = nNaiveBayesTrain()\n",
    "\n",
    "    # transform test_data to features\n",
    "    X_test_features = count_vect.transform(X_test)\n",
    "\n",
    "    # make prediction\n",
    "    predicted = clf.predict(X_test_features)\n",
    "\n",
    "    # calculate accuracy\n",
    "    acc = np.mean(predicted == y_test)\n",
    "    # print accuracy\n",
    "    print(\"Accuracy of normalized naive bayes is: \" + str(round(acc, 3)))"
   ]
  },
  {
   "cell_type": "code",
   "execution_count": 10,
   "metadata": {},
   "outputs": [],
   "source": [
    "# =============Logistic Regression un-normalized============ # \n",
    "\n",
    "def uLogisticRegressionTrain():\n",
    "    \"\"\" Training an unnormalized logistic regression model \"\"\"\n",
    "\n",
    "    # initialize CountVectorizer to extract word features without normalization\n",
    "    count_vect = CountVectorizer()\n",
    "\n",
    "    # transform training dataset to word features without normalizing\n",
    "    X_train_features = count_vect.fit_transform(X_train)\n",
    "    \n",
    "    # train model with training dataset\n",
    "    logreg = LogisticRegression(solver='lbfgs').fit(X_train_features, y_train)\n",
    "\n",
    "    # return trained model\n",
    "    return logreg, count_vect"
   ]
  },
  {
   "cell_type": "code",
   "execution_count": 11,
   "metadata": {},
   "outputs": [],
   "source": [
    "def ulrPredict(test_file, resultdoc=\"result-lr-u.txt\"):\n",
    "    \"\"\" predicting when given a test file\"\"\"\n",
    "\n",
    "    # call trained model\n",
    "    logreg, count_vect  = uLogisticRegressionTrain()\n",
    "\n",
    "    # load test data\n",
    "    data = []\n",
    "    with open(test_file, 'r') as f:\n",
    "        for sentence in f:\n",
    "            data.append(sentence.strip('\\r\\n'))\n",
    "\n",
    "    # transform test_data to features\n",
    "    X_test_features = count_vect.transform(data) \n",
    "\n",
    "    # predict test sentences\n",
    "    predicted = logreg.predict(X_test_features)\n",
    "    \n",
    "    # write prediction to file\n",
    "    with open(resultdoc, 'w', newline='') as f1:\n",
    "        for prediction in predicted:\n",
    "            f1.write(str(prediction) + '\\n')"
   ]
  },
  {
   "cell_type": "code",
   "execution_count": 12,
   "metadata": {},
   "outputs": [],
   "source": [
    "def ulrAccuracy():\n",
    "    \"\"\" calculates the accuracy of the unnormalized logistic regresion model\"\"\"\n",
    "    # call trained model\n",
    "    logreg, count_vect  = uLogisticRegressionTrain()\n",
    "\n",
    "    # transform test_data to features\n",
    "    X_test_features = count_vect.transform(X_test)\n",
    "\n",
    "    # make prediction\n",
    "    predicted = logreg.predict(X_test_features)\n",
    "\n",
    "    # calculate accuracy\n",
    "    acc = np.mean(predicted == y_test)\n",
    "    # print accuracy\n",
    "    print(\"Accuracy of un-normalized logistic regression model is: \" + str(round(acc, 3)))"
   ]
  },
  {
   "cell_type": "code",
   "execution_count": 13,
   "metadata": {},
   "outputs": [],
   "source": [
    "# =============Logistic Regression normalized============ # \n",
    "def nLogisticRegressionTrain():\n",
    "    \"\"\" Training normalized logistic regression model \"\"\"\n",
    "\n",
    "    # initialize CountVectorizer to extract word features with normalization\n",
    "    count_vect = CountVectorizer(stop_words=\"english\", analyzer='word', \n",
    "                            ngram_range=(1, 1), max_df=0.5, min_df=1, max_features=None)\n",
    "\n",
    "    # transform training dataset to word features \n",
    "    X_train_features = count_vect.fit_transform(X_train)\n",
    "\n",
    "    # solve frequency discrepancies among long and short sentences\n",
    "    tfidf_transformer = TfidfTransformer()\n",
    "    X_train_tfidf = tfidf_transformer.fit_transform(X_train_features)\n",
    "    \n",
    "    # train model with training dataset\n",
    "    logreg = LogisticRegression(solver='lbfgs').fit(X_train_tfidf, y_train)\n",
    "\n",
    "    # return trained model\n",
    "    return logreg, count_vect, tfidf_transformer"
   ]
  },
  {
   "cell_type": "code",
   "execution_count": 14,
   "metadata": {},
   "outputs": [],
   "source": [
    "def nlrPredict(test_file, resultdoc=\"result-lr-n.txt\"):\n",
    "    \"\"\" predicting when given a test file\"\"\"\n",
    "\n",
    "    # call trained model\n",
    "    logreg, count_vect, tfidf_transformer  = nLogisticRegressionTrain()\n",
    "\n",
    "    # load test data\n",
    "    data = []\n",
    "    with open(test_file, 'r') as f:\n",
    "        for sentence in f:\n",
    "            data.append(sentence.strip('\\r\\n'))\n",
    "\n",
    "    # transform test_data to features\n",
    "    X_test_features = count_vect.transform(data) \n",
    "    # solve frequency discrepancies among short and long sentences\n",
    "    X_new_tfidf = tfidf_transformer.transform(X_test_features)\n",
    "\n",
    "    # predict test sentences\n",
    "    predicted = logreg.predict(X_new_tfidf)\n",
    "    \n",
    "    # write prediction to file\n",
    "    with open(resultdoc, 'w', newline='') as f1:\n",
    "        for prediction in predicted:\n",
    "            f1.write(str(prediction) + '\\n')"
   ]
  },
  {
   "cell_type": "code",
   "execution_count": 15,
   "metadata": {},
   "outputs": [],
   "source": [
    "def nlrAccuracy():\n",
    "    \"\"\" calculates the accuracy of the normalized logistic regression model\"\"\"\n",
    "    \n",
    "    # call trained model\n",
    "    logreg, count_vect, tfidf_transformer = nLogisticRegressionTrain()\n",
    "\n",
    "    # transform test_data to features\n",
    "    X_test_features = count_vect.transform(X_test)\n",
    "\n",
    "    # make prediction\n",
    "    predicted = logreg.predict(X_test_features)\n",
    "\n",
    "    # calculate accuracy\n",
    "    acc = np.mean(predicted == y_test)\n",
    "    # print accuracy\n",
    "    print(\"Accuracy of normalized logistic regression is: \" + str(round(acc, 3)))"
   ]
  },
  {
   "cell_type": "code",
   "execution_count": 17,
   "metadata": {},
   "outputs": [],
   "source": [
    "# print(classification_report(y_test, y_pred))"
   ]
  },
  {
   "cell_type": "code",
   "execution_count": 18,
   "metadata": {},
   "outputs": [
    {
     "name": "stdout",
     "output_type": "stream",
     "text": [
      "Accuracy of un-normalized naive bayes is: 0.789\n",
      "Accuracy of normalized naive bayes is: 0.792\n"
     ]
    }
   ],
   "source": [
    "#  Running the models\n",
    "\n",
    "# un-normalized  naive bayes\n",
    "uPredict('test_sentences.txt')\n",
    "uAccuracy()\n",
    "\n",
    "# normalized naive bayes\n",
    "nPredict('test_sentences.txt')\n",
    "nAccuracy()"
   ]
  },
  {
   "cell_type": "code",
   "execution_count": 19,
   "metadata": {},
   "outputs": [
    {
     "name": "stdout",
     "output_type": "stream",
     "text": [
      "Accuracy of un-normalized logistic regression model is: 0.798\n",
      "Accuracy of normalized logistic regression is: 0.775\n"
     ]
    }
   ],
   "source": [
    "# un-normalized logistic regression\n",
    "ulrPredict('test_sentences.txt')\n",
    "ulrAccuracy()\n",
    "\n",
    "\n",
    "# normalized logistic regression\n",
    "nlrPredict('test_sentences.txt')\n",
    "nlrAccuracy()"
   ]
  },
  {
   "cell_type": "code",
   "execution_count": null,
   "metadata": {},
   "outputs": [],
   "source": []
  }
 ],
 "metadata": {
  "kernelspec": {
   "display_name": "Python 3",
   "language": "python",
   "name": "python3"
  },
  "language_info": {
   "codemirror_mode": {
    "name": "ipython",
    "version": 3
   },
   "file_extension": ".py",
   "mimetype": "text/x-python",
   "name": "python",
   "nbconvert_exporter": "python",
   "pygments_lexer": "ipython3",
   "version": "3.7.0"
  }
 },
 "nbformat": 4,
 "nbformat_minor": 2
}
