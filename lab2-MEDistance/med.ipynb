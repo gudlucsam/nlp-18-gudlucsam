{
 "cells": [
  {
   "cell_type": "code",
   "execution_count": 5,
   "metadata": {},
   "outputs": [],
   "source": [
    "from argparse import ArgumentParser\n",
    "import numpy as np\n",
    "\n",
    "\n",
    "\n",
    "def sub_cost(cha_i, cha_j):\n",
    "    \"\"\"checks if two characters are equal\"\"\"\n",
    "\n",
    "    if cha_i == cha_j:\n",
    "        return 0\n",
    "    else:\n",
    "        return 2\n",
    "\n",
    "def meDistance(source_word, target_word):\n",
    "    \"\"\"calculates the minimum edit distance between two words\"\"\"\n",
    "    # normalize wordds\n",
    "    source_word = source_word.lower()\n",
    "    target_word = target_word.lower()\n",
    "\n",
    "    n = len(source_word)\n",
    "    m = len(target_word)\n",
    "\n",
    "    # initialize numpy\n",
    "    arr = np.zeros((n+1, m+1))\n",
    "    \n",
    "    arr[0, 0] = 0\n",
    "    for i in range(1, n+1):\n",
    "        arr[i, 0] = arr[i-1, 0]+1\n",
    "    for j in range(1, m+1):\n",
    "        arr[0, j] = arr[0, j-1]+1\n",
    "\n",
    "    # recurrence\n",
    "    for i in range(1, n+1):\n",
    "        for j in range(1, m+1):\n",
    "            arr[i, j] = min(arr[i-1, j]+1, arr[i-1, j-1]+sub_cost(source_word[i-1], target_word[j-1]), arr[i, j-1]+1)\n",
    "\n",
    "    return arr[n, m]\n",
    "\n"
   ]
  },
  {
   "cell_type": "code",
   "execution_count": 6,
   "metadata": {},
   "outputs": [
    {
     "name": "stdout",
     "output_type": "stream",
     "text": [
      "the minimum edit distance between intention and execution is 8.0\n"
     ]
    }
   ],
   "source": [
    "# Substitute in the source_word and target word in the meDistance(source_word, target_word) and run\n",
    "source_word = \"intention\"\n",
    "target_word = \"execution\"\n",
    "md = meDistance(source_word, target_word)\n",
    "print(\"the minimum edit distance between {0} and {1} is {2}\".format(source_word, target_word, str(md)))"
   ]
  },
  {
   "cell_type": "code",
   "execution_count": null,
   "metadata": {},
   "outputs": [],
   "source": []
  }
 ],
 "metadata": {
  "kernelspec": {
   "display_name": "Python 3",
   "language": "python",
   "name": "python3"
  },
  "language_info": {
   "codemirror_mode": {
    "name": "ipython",
    "version": 3
   },
   "file_extension": ".py",
   "mimetype": "text/x-python",
   "name": "python",
   "nbconvert_exporter": "python",
   "pygments_lexer": "ipython3",
   "version": "3.6.5"
  }
 },
 "nbformat": 4,
 "nbformat_minor": 2
}
