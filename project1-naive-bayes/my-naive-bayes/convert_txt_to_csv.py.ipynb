{
 "cells": [
  {
   "cell_type": "code",
   "execution_count": 65,
   "metadata": {},
   "outputs": [],
   "source": [
    "import csv\n",
    "\n",
    "\n",
    "def convertToCSV(txtfile, csvfile):\n",
    "    \"\"\"\n",
    "        converts a txt file into a csv\n",
    "    \"\"\"\n",
    "    \n",
    "    with open(txtfile, 'r') as f1, open(csvfile, 'w') as f2:\n",
    "        for line in f1:\n",
    "            for ch in [',', ';', '.', '\"', '!', '(', ')', ':', '/', \"-\", '\\\\' ]:\n",
    "                if ch in line:\n",
    "                    line = line.replace(ch, ' ')\n",
    "            out_file = csv.writer(f2)\n",
    "            out_file.writerow(list(line.split()))\n",
    "    "
   ]
  },
  {
   "cell_type": "code",
   "execution_count": 66,
   "metadata": {},
   "outputs": [],
   "source": [
    "#convertToCSV('../sentiment-labelled-sentences/mainDataset.txt', '../sentiment-labelled-sentences/mainDataset.csv')"
   ]
  },
  {
   "cell_type": "code",
   "execution_count": null,
   "metadata": {},
   "outputs": [],
   "source": []
  },
  {
   "cell_type": "code",
   "execution_count": null,
   "metadata": {},
   "outputs": [],
   "source": []
  }
 ],
 "metadata": {
  "kernelspec": {
   "display_name": "Python 3",
   "language": "python",
   "name": "python3"
  },
  "language_info": {
   "codemirror_mode": {
    "name": "ipython",
    "version": 3
   },
   "file_extension": ".py",
   "mimetype": "text/x-python",
   "name": "python",
   "nbconvert_exporter": "python",
   "pygments_lexer": "ipython3",
   "version": "3.6.5"
  }
 },
 "nbformat": 4,
 "nbformat_minor": 2
}
