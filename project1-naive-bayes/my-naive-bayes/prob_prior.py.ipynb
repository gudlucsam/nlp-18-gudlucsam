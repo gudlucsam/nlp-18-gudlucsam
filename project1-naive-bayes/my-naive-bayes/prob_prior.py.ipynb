{
 "cells": [
  {
   "cell_type": "code",
   "execution_count": 48,
   "metadata": {},
   "outputs": [],
   "source": [
    "import csv\n",
    "import math\n",
    "\n",
    "\n",
    "\n",
    "\n",
    "def createList(csvdatafile):\n",
    "    \"\"\"\n",
    "        creates a python list with data in csv.\n",
    "    \"\"\"\n",
    "    with open(csvdatafile, 'r') as f:\n",
    "        reader = csv.reader(f)\n",
    "        lst = list(reader)\n",
    "        \n",
    "        return lst\n",
    "    \n",
    "def totalCls(lst, cls):\n",
    "    \"\"\"\n",
    "        returns the total counts of a particular class.\n",
    "    \"\"\"\n",
    "    count = 0\n",
    "    for i in lst:\n",
    "        if i and i[-1] == cls:\n",
    "                count+=1\n",
    "                \n",
    "    return count\n",
    "            \n",
    "    \n",
    "def priorProb(csvdatafile, cls):\n",
    "    \"\"\"\n",
    "    this function calculates the probability \n",
    "    of a given class given the dataset.\n",
    "    \"\"\"\n",
    "    lst = createList(csvdatafile)\n",
    "    \n",
    "    return math.log10(totalCls(lst, cls)/len(lst))\n",
    "    \n",
    "            \n",
    "            \n",
    "                "
   ]
  },
  {
   "cell_type": "code",
   "execution_count": 49,
   "metadata": {},
   "outputs": [
    {
     "data": {
      "text/plain": [
       "-0.6020599913279624"
      ]
     },
     "execution_count": 49,
     "metadata": {},
     "output_type": "execute_result"
    }
   ],
   "source": [
    "priorProb('../sentiment-labelled-sentences/mainDataset.csv', '1')"
   ]
  },
  {
   "cell_type": "code",
   "execution_count": null,
   "metadata": {},
   "outputs": [],
   "source": []
  }
 ],
 "metadata": {
  "kernelspec": {
   "display_name": "Python 3",
   "language": "python",
   "name": "python3"
  },
  "language_info": {
   "codemirror_mode": {
    "name": "ipython",
    "version": 3
   },
   "file_extension": ".py",
   "mimetype": "text/x-python",
   "name": "python",
   "nbconvert_exporter": "python",
   "pygments_lexer": "ipython3",
   "version": "3.6.5"
  }
 },
 "nbformat": 4,
 "nbformat_minor": 2
}
