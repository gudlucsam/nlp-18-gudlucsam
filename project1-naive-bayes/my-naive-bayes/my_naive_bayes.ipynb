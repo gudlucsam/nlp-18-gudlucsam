{
 "cells": [
  {
   "cell_type": "code",
   "execution_count": 12,
   "metadata": {},
   "outputs": [
    {
     "name": "stdout",
     "output_type": "stream",
     "text": [
      "The autoreload extension is already loaded. To reload it, use:\n",
      "  %reload_ext autoreload\n"
     ]
    }
   ],
   "source": [
    "%load_ext autoreload\n",
    "%autoreload 2\n",
    "\n",
    "import csv\n",
    "import math\n",
    "from utility_functions import *\n",
    "from component_functions import *\n",
    "\n",
    "\n",
    "def classifier(review, cls, vblry):\n",
    "    \"\"\"\n",
    "        Calculates the likelihood component of a review.\n",
    "    \"\"\"\n",
    "    \n",
    "    # sanitize review\n",
    "    for ch in [',', ';', '.', '\"', '!', '(', ')', ':', '/', \"-\", '\\\\' ]:\n",
    "        if ch in review:\n",
    "            review = review.replace(ch, ' ')\n",
    "    lst = list(review.split())\n",
    "    \n",
    "    likelihood = 1\n",
    "    for word in lst:\n",
    "        likelihood*=likelihoodOfWordInCls(word, cls)\n",
    "    \n",
    "    return likelihood\n",
    "        \n",
    "    \n",
    "\n",
    "\n",
    "def naive_bayes_classifier(testdoc):\n",
    "    \"\"\"\n",
    "        This function takes a testdoc containing a several sentences representing reviews.\n",
    "        and returns a text file containing which sentences as before including their assigned category.\n",
    "    \"\"\"\n",
    "    \n",
    "    # source of dataset\n",
    "    vocabulary = '../sentiment-labelled-sentences/mainDataset.csv'\n",
    "    \n",
    "    # classes used\n",
    "    cls = [1, 0]\n",
    "    \n",
    "    # calculating prior probabilities of available classes\n",
    "    prior_prob_of_1 = priorProb(vocabulary, cls[1])\n",
    "    #print(prior_prob_of_1)\n",
    "    prior_prob_of_0 = priorProb(vocabulary, cls[0])\n",
    "    #print(prior_prob_of_0)\n",
    "    \n",
    "    with open(testdoc, 'r') as f:\n",
    "        for review in f:\n",
    "            pass\n",
    "            \n",
    "            \n",
    "            \n",
    "            \n",
    "    \n",
    "    \n",
    "    \n",
    "    \n",
    "    \n",
    "    \n",
    "    \n",
    "    \n",
    "    \n",
    "    "
   ]
  },
  {
   "cell_type": "code",
   "execution_count": 13,
   "metadata": {},
   "outputs": [
    {
     "data": {
      "text/plain": [
       "23098"
      ]
     },
     "execution_count": 13,
     "metadata": {},
     "output_type": "execute_result"
    }
   ],
   "source": [
    "# Testing countWrdsOfVocInCls function in component_functions.py\n",
    "\n",
    "countWrdsOfVocInCls('../sentiment-labelled-sentences/mainDataset.csv', 1)"
   ]
  },
  {
   "cell_type": "code",
   "execution_count": 14,
   "metadata": {},
   "outputs": [
    {
     "data": {
      "text/plain": [
       "-1.3648792186987904"
      ]
     },
     "execution_count": 14,
     "metadata": {},
     "output_type": "execute_result"
    }
   ],
   "source": [
    "# Testing likelihoodOfWordInCls in component_functions.py\n",
    "\n",
    "likelihoodOfWordInCls('the', 1)"
   ]
  },
  {
   "cell_type": "code",
   "execution_count": 15,
   "metadata": {},
   "outputs": [
    {
     "data": {
      "text/plain": [
       "-0.6020599913279624"
      ]
     },
     "execution_count": 15,
     "metadata": {},
     "output_type": "execute_result"
    }
   ],
   "source": [
    "# Testing priorProb function from component_functions.py\n",
    "\n",
    "priorProb('../sentiment-labelled-sentences/mainDataset.csv', 1)\n"
   ]
  },
  {
   "cell_type": "code",
   "execution_count": 16,
   "metadata": {},
   "outputs": [],
   "source": [
    "naive_bayes_classifier('../sentiment-labelled-sentences/mainDataset.txt')"
   ]
  },
  {
   "cell_type": "code",
   "execution_count": 17,
   "metadata": {},
   "outputs": [
    {
     "data": {
      "text/plain": [
       "9625590.944702169"
      ]
     },
     "execution_count": 17,
     "metadata": {},
     "output_type": "execute_result"
    }
   ],
   "source": [
    "# Testing function that calculates likehood of a review in a class\n",
    "classifier('A very, very, very slow-moving, aimless movie about a distressed, drifting young man.', 1, '../sentiment-labelled-sentences/mainDataset.csv')"
   ]
  },
  {
   "cell_type": "code",
   "execution_count": null,
   "metadata": {},
   "outputs": [],
   "source": []
  },
  {
   "cell_type": "code",
   "execution_count": null,
   "metadata": {},
   "outputs": [],
   "source": []
  },
  {
   "cell_type": "code",
   "execution_count": null,
   "metadata": {},
   "outputs": [],
   "source": []
  }
 ],
 "metadata": {
  "kernelspec": {
   "display_name": "Python 3",
   "language": "python",
   "name": "python3"
  },
  "language_info": {
   "codemirror_mode": {
    "name": "ipython",
    "version": 3
   },
   "file_extension": ".py",
   "mimetype": "text/x-python",
   "name": "python",
   "nbconvert_exporter": "python",
   "pygments_lexer": "ipython3",
   "version": "3.6.5"
  }
 },
 "nbformat": 4,
 "nbformat_minor": 2
}
