{
 "cells": [
  {
   "cell_type": "code",
   "execution_count": 73,
   "metadata": {},
   "outputs": [],
   "source": [
    "import csv\n",
    "import math\n",
    "from collections import Counter\n",
    "\n",
    "def createList(csvdatafile):\n",
    "    \"\"\"\n",
    "        creates a python list with data in csv.\n",
    "    \"\"\"\n",
    "    with open(csvdatafile, 'r') as f:\n",
    "        reader = csv.reader(f)\n",
    "        lst = list(reader)\n",
    "        \n",
    "        return lst\n",
    "\n",
    "\n",
    "def createDict(csvdatafile, cls):\n",
    "    \"\"\"\n",
    "        create a dictionary of word count given a class.\n",
    "    \"\"\"\n",
    "    cnt = Counter()\n",
    "    lst = createList(csvdatafile)\n",
    "    d = {}\n",
    "    for i in lst:\n",
    "        if i and int(i[-1]) == cls:\n",
    "            cnt.update(map(str.lower, i[:-1]))\n",
    "    return cnt\n",
    "\n",
    "def countWrdsOfVocInCls(csvdatafile, cls):\n",
    "    \"\"\"\n",
    "        Finds the sum of the occurrence of everyword in the vocabulary given a class.\n",
    "        it normalizes the each word occurrence by adding one to it.\n",
    "    \"\"\"\n",
    "    \n",
    "    datasetCounts = createDict(csvdatafile, 1) + createDict(csvdatafile, 0)\n",
    "    \n",
    "    if int(cls) == 1:\n",
    "        counts = createDict(csvdatafile, 1)\n",
    "    else:\n",
    "        counts = createDict(csvdatafile, 0)\n",
    "    \n",
    "    cnt = 0\n",
    "    for wrd in datasetCounts:\n",
    "        cnt+=counts[wrd] + 1\n",
    "    \n",
    "    return cnt\n",
    "        \n",
    "    \n",
    "def likelihoodOfWordInCls(wrd, cls):\n",
    "    \"\"\"\n",
    "        Finds the probability of a word in a class.\n",
    "    \"\"\"\n",
    "    csvdataset = '../sentiment-labelled-sentences/mainDataset.csv'\n",
    "    \n",
    "    countOfWrd = createDict(csvdataset, cls)[wrd] + 1\n",
    "    \n",
    "    \n",
    "    return math.log10(countOfWrd/countWrdsOfVocInCls(csvdataset, cls))\n",
    "\n",
    "\n",
    "#def \n",
    "    \n",
    "    \n",
    "    "
   ]
  },
  {
   "cell_type": "code",
   "execution_count": 74,
   "metadata": {},
   "outputs": [
    {
     "data": {
      "text/plain": [
       "23098"
      ]
     },
     "execution_count": 74,
     "metadata": {},
     "output_type": "execute_result"
    }
   ],
   "source": [
    "countWrdsOfVocInCls('../sentiment-labelled-sentences/mainDataset.csv', 1)"
   ]
  },
  {
   "cell_type": "code",
   "execution_count": 75,
   "metadata": {},
   "outputs": [
    {
     "data": {
      "text/plain": [
       "-1.3648792186987904"
      ]
     },
     "execution_count": 75,
     "metadata": {},
     "output_type": "execute_result"
    }
   ],
   "source": [
    "likelihoodOfWordInCls('the', 1)"
   ]
  },
  {
   "cell_type": "code",
   "execution_count": null,
   "metadata": {},
   "outputs": [],
   "source": []
  },
  {
   "cell_type": "code",
   "execution_count": null,
   "metadata": {},
   "outputs": [],
   "source": []
  },
  {
   "cell_type": "code",
   "execution_count": null,
   "metadata": {},
   "outputs": [],
   "source": []
  }
 ],
 "metadata": {
  "kernelspec": {
   "display_name": "Python 3",
   "language": "python",
   "name": "python3"
  },
  "language_info": {
   "codemirror_mode": {
    "name": "ipython",
    "version": 3
   },
   "file_extension": ".py",
   "mimetype": "text/x-python",
   "name": "python",
   "nbconvert_exporter": "python",
   "pygments_lexer": "ipython3",
   "version": "3.6.5"
  }
 },
 "nbformat": 4,
 "nbformat_minor": 2
}
